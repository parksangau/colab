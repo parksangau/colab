{
  "cells": [
    {
      "cell_type": "markdown",
      "metadata": {
        "id": "view-in-github",
        "colab_type": "text"
      },
      "source": [
        "<a href=\"https://colab.research.google.com/github/parksangau/colab/blob/main/0101_python_basic_type_input_ipynb%EC%9D%98_%EC%82%AC%EB%B3%B8.ipynb\" target=\"_parent\"><img src=\"https://colab.research.google.com/assets/colab-badge.svg\" alt=\"Open In Colab\"/></a>"
      ]
    },
    {
      "cell_type": "markdown",
      "metadata": {
        "id": "h63gKkC2u4F8"
      },
      "source": [
        "* 파이썬 공식 튜토리얼 : \n",
        "    * 영문 : https://docs.python.org/3/tutorial/introduction.html\n",
        "    * 한글 : https://docs.python.org/ko/3/tutorial/index.html\n",
        "\n",
        "\n",
        "## Zen of Python\n",
        "* 파이썬의 철학이 잘 담겨있는 Zen of Python 을 출력해 봅니다.\n",
        "    * \"아름다운 게 추한 것보다 낫다.\" (Beautiful is better than ugly)\n",
        "    * \"명시적인 것이 암시적인 것 보다 낫다.\" (Explicit is better than implicit)\n",
        "    * \"단순함이 복잡함보다 낫다.\" (Simple is better than complex)\n",
        "    * \"복잡함이 난해한 것보다 낫다.\" (Complex is better than complicated)\n",
        "    * \"가독성은 중요하다.\" (Readability counts)\n",
        "    \n",
        "* import를 통해 파이썬의 라이브러리나 패키지를 가져올 수 있습니다."
      ]
    },
    {
      "cell_type": "code",
      "execution_count": null,
      "metadata": {
        "id": "PxUHokR8sQ8q",
        "colab": {
          "base_uri": "https://localhost:8080/"
        },
        "outputId": "5ed189be-f894-4d24-cc06-e3e019f5888e"
      },
      "outputs": [
        {
          "output_type": "stream",
          "name": "stdout",
          "text": [
            "The Zen of Python, by Tim Peters\n",
            "\n",
            "Beautiful is better than ugly.\n",
            "Explicit is better than implicit.\n",
            "Simple is better than complex.\n",
            "Complex is better than complicated.\n",
            "Flat is better than nested.\n",
            "Sparse is better than dense.\n",
            "Readability counts.\n",
            "Special cases aren't special enough to break the rules.\n",
            "Although practicality beats purity.\n",
            "Errors should never pass silently.\n",
            "Unless explicitly silenced.\n",
            "In the face of ambiguity, refuse the temptation to guess.\n",
            "There should be one-- and preferably only one --obvious way to do it.\n",
            "Although that way may not be obvious at first unless you're Dutch.\n",
            "Now is better than never.\n",
            "Although never is often better than *right* now.\n",
            "If the implementation is hard to explain, it's a bad idea.\n",
            "If the implementation is easy to explain, it may be a good idea.\n",
            "Namespaces are one honking great idea -- let's do more of those!\n"
          ]
        }
      ],
      "source": [
        "# import this를 출력해 봅니다.\n",
        "import this"
      ]
    },
    {
      "cell_type": "markdown",
      "metadata": {
        "id": "XE243Pv6LVe0"
      },
      "source": [
        "## Bool"
      ]
    },
    {
      "cell_type": "code",
      "execution_count": null,
      "metadata": {
        "id": "zzZmJAs1LVe1",
        "colab": {
          "base_uri": "https://localhost:8080/"
        },
        "outputId": "19cd8a4e-038e-4f12-cf9d-b58069cf9a38"
      },
      "outputs": [
        {
          "output_type": "execute_result",
          "data": {
            "text/plain": [
              "True"
            ]
          },
          "metadata": {},
          "execution_count": 15
        }
      ],
      "source": [
        "True"
      ]
    },
    {
      "cell_type": "code",
      "execution_count": null,
      "metadata": {
        "id": "5Zw-s2fULVe1",
        "colab": {
          "base_uri": "https://localhost:8080/"
        },
        "outputId": "e73d2d8b-fad7-4866-82ad-890bf2ed55a5"
      },
      "outputs": [
        {
          "output_type": "execute_result",
          "data": {
            "text/plain": [
              "False"
            ]
          },
          "metadata": {},
          "execution_count": 3
        }
      ],
      "source": [
        "False"
      ]
    },
    {
      "cell_type": "code",
      "execution_count": null,
      "metadata": {
        "id": "vth66wDrLVe1",
        "colab": {
          "base_uri": "https://localhost:8080/"
        },
        "outputId": "aa8a495c-ef7a-494b-a31e-7af919f2bf2d"
      },
      "outputs": [
        {
          "output_type": "execute_result",
          "data": {
            "text/plain": [
              "bool"
            ]
          },
          "metadata": {},
          "execution_count": 7
        }
      ],
      "source": [
        "# type\n",
        "type(True)"
      ]
    },
    {
      "cell_type": "code",
      "execution_count": null,
      "metadata": {
        "id": "PYL5KspULVe2",
        "colab": {
          "base_uri": "https://localhost:8080/"
        },
        "outputId": "bbee3043-394d-4bba-b613-f7960b6a05fa"
      },
      "outputs": [
        {
          "output_type": "execute_result",
          "data": {
            "text/plain": [
              "str"
            ]
          },
          "metadata": {},
          "execution_count": 8
        }
      ],
      "source": [
        "# type\n",
        "type(\"True\")"
      ]
    },
    {
      "cell_type": "code",
      "execution_count": null,
      "metadata": {
        "id": "Yle0UeKVLVe2",
        "colab": {
          "base_uri": "https://localhost:8080/"
        },
        "outputId": "e60e1681-76a8-48ac-b37d-5e2d7d2467cd"
      },
      "outputs": [
        {
          "output_type": "execute_result",
          "data": {
            "text/plain": [
              "True"
            ]
          },
          "metadata": {},
          "execution_count": 10
        }
      ],
      "source": [
        "# 비교\n",
        "True == True"
      ]
    },
    {
      "cell_type": "code",
      "execution_count": null,
      "metadata": {
        "id": "fLFRoXtMLVe3",
        "colab": {
          "base_uri": "https://localhost:8080/"
        },
        "outputId": "65cd6880-59b7-4b84-94db-7f332c7312c6"
      },
      "outputs": [
        {
          "output_type": "execute_result",
          "data": {
            "text/plain": [
              "False"
            ]
          },
          "metadata": {},
          "execution_count": 11
        }
      ],
      "source": [
        "# 비교\n",
        "True == False"
      ]
    },
    {
      "cell_type": "code",
      "execution_count": null,
      "metadata": {
        "id": "vLHqYBVzLVe3",
        "colab": {
          "base_uri": "https://localhost:8080/"
        },
        "outputId": "75247cdc-7d86-4f72-f34b-6b4199ccbf0c"
      },
      "outputs": [
        {
          "output_type": "execute_result",
          "data": {
            "text/plain": [
              "True"
            ]
          },
          "metadata": {},
          "execution_count": 13
        }
      ],
      "source": [
        "# 문자와 비교\n",
        "True == 1"
      ]
    },
    {
      "cell_type": "code",
      "execution_count": null,
      "metadata": {
        "id": "oQXOu-X1LVe4",
        "colab": {
          "base_uri": "https://localhost:8080/"
        },
        "outputId": "62a3dbdf-6a2d-4c6a-a631-5b37e54bd06a"
      },
      "outputs": [
        {
          "output_type": "execute_result",
          "data": {
            "text/plain": [
              "False"
            ]
          },
          "metadata": {},
          "execution_count": 16
        }
      ],
      "source": [
        "# 문자와 비교\n",
        "False == \"0\""
      ]
    },
    {
      "cell_type": "markdown",
      "metadata": {
        "id": "VPLSKjGrLVe4"
      },
      "source": [
        "## 숫자\n",
        "* https://docs.python.org/ko/3/tutorial/introduction.html#numbers"
      ]
    },
    {
      "cell_type": "code",
      "execution_count": null,
      "metadata": {
        "scrolled": true,
        "id": "kYB0d6asLVe5",
        "colab": {
          "base_uri": "https://localhost:8080/"
        },
        "outputId": "476ae6a8-fa37-44ff-bc67-fc7ac1eaef56"
      },
      "outputs": [
        {
          "output_type": "execute_result",
          "data": {
            "text/plain": [
              "1"
            ]
          },
          "metadata": {},
          "execution_count": 17
        }
      ],
      "source": [
        "# 정수 1을 출력해 봅니다.\n",
        "1"
      ]
    },
    {
      "cell_type": "code",
      "execution_count": null,
      "metadata": {
        "id": "jTFplKagLVe5",
        "colab": {
          "base_uri": "https://localhost:8080/"
        },
        "outputId": "8ea58ebb-d1d3-40bb-c37e-2c34f097010b"
      },
      "outputs": [
        {
          "output_type": "execute_result",
          "data": {
            "text/plain": [
              "1.0"
            ]
          },
          "metadata": {},
          "execution_count": 18
        }
      ],
      "source": [
        "# 실수 1을 출력해 봅니다.\n",
        "1.0"
      ]
    },
    {
      "cell_type": "code",
      "execution_count": null,
      "metadata": {
        "id": "fFUWX8uKLVe5",
        "colab": {
          "base_uri": "https://localhost:8080/"
        },
        "outputId": "78475077-873a-4e8c-cdf5-ca29d338b931"
      },
      "outputs": [
        {
          "output_type": "execute_result",
          "data": {
            "text/plain": [
              "int"
            ]
          },
          "metadata": {},
          "execution_count": 19
        }
      ],
      "source": [
        "# 정수 1의 타입을 출력해 봅니다.\n",
        "type(1)"
      ]
    },
    {
      "cell_type": "code",
      "execution_count": null,
      "metadata": {
        "id": "N7-FyMJ7LVe6",
        "colab": {
          "base_uri": "https://localhost:8080/"
        },
        "outputId": "36bef4a3-0954-4ca7-e756-e99ae38cbb9c"
      },
      "outputs": [
        {
          "output_type": "execute_result",
          "data": {
            "text/plain": [
              "float"
            ]
          },
          "metadata": {},
          "execution_count": 20
        }
      ],
      "source": [
        "# 실수 1의 타입을 출력해 봅니다.\n",
        "type(1.0)"
      ]
    },
    {
      "cell_type": "markdown",
      "metadata": {
        "id": "iZeb8cEYLVe6"
      },
      "source": [
        "## 사칙연산"
      ]
    },
    {
      "cell_type": "code",
      "execution_count": null,
      "metadata": {
        "id": "8MPvcHPoLVe6",
        "colab": {
          "base_uri": "https://localhost:8080/"
        },
        "outputId": "16e461b0-2586-429a-8174-e6e66c76dd00"
      },
      "outputs": [
        {
          "output_type": "execute_result",
          "data": {
            "text/plain": [
              "2"
            ]
          },
          "metadata": {},
          "execution_count": 21
        }
      ],
      "source": [
        "# 더하기\n",
        "1 + 1"
      ]
    },
    {
      "cell_type": "code",
      "execution_count": null,
      "metadata": {
        "id": "1s6WyGGiLVe7",
        "colab": {
          "base_uri": "https://localhost:8080/"
        },
        "outputId": "3cf7ffac-7f29-4725-b545-122775ddd4e7"
      },
      "outputs": [
        {
          "output_type": "execute_result",
          "data": {
            "text/plain": [
              "-2"
            ]
          },
          "metadata": {},
          "execution_count": 22
        }
      ],
      "source": [
        "# 빼기\n",
        "1 - 3"
      ]
    },
    {
      "cell_type": "code",
      "execution_count": null,
      "metadata": {
        "id": "c0ACix8kLVe7",
        "colab": {
          "base_uri": "https://localhost:8080/"
        },
        "outputId": "03570e00-13cf-446c-ec2a-ab07b182f499"
      },
      "outputs": [
        {
          "output_type": "execute_result",
          "data": {
            "text/plain": [
              "8"
            ]
          },
          "metadata": {},
          "execution_count": 23
        }
      ],
      "source": [
        "# 곱하기\n",
        "2 * 4"
      ]
    },
    {
      "cell_type": "code",
      "execution_count": null,
      "metadata": {
        "id": "AkBnXdo9LVe7",
        "colab": {
          "base_uri": "https://localhost:8080/"
        },
        "outputId": "138344f4-e279-43a2-a40f-654dfa950e51"
      },
      "outputs": [
        {
          "output_type": "execute_result",
          "data": {
            "text/plain": [
              "1.0"
            ]
          },
          "metadata": {},
          "execution_count": 24
        }
      ],
      "source": [
        "# 나누기\n",
        "2 / 2"
      ]
    },
    {
      "cell_type": "code",
      "execution_count": null,
      "metadata": {
        "id": "zDxAeGPBLVe7",
        "colab": {
          "base_uri": "https://localhost:8080/"
        },
        "outputId": "32f2d60e-736f-4cb0-a0b3-c71653327e2f"
      },
      "outputs": [
        {
          "output_type": "execute_result",
          "data": {
            "text/plain": [
              "1"
            ]
          },
          "metadata": {},
          "execution_count": 27
        }
      ],
      "source": [
        "# 나누기 후 몫만 반환\n",
        "6 // 4"
      ]
    },
    {
      "cell_type": "code",
      "execution_count": null,
      "metadata": {
        "id": "LS0IGxQoLVe7",
        "colab": {
          "base_uri": "https://localhost:8080/"
        },
        "outputId": "f0676096-0393-4b1d-8a45-23e0297c4ed1"
      },
      "outputs": [
        {
          "output_type": "execute_result",
          "data": {
            "text/plain": [
              "2"
            ]
          },
          "metadata": {},
          "execution_count": 30
        }
      ],
      "source": [
        "# 나누기 후 나머지만 반환\n",
        "6 % 4"
      ]
    },
    {
      "cell_type": "markdown",
      "metadata": {
        "id": "W3OJCkGOLVe8"
      },
      "source": [
        "## 변수\n",
        "* 변수명은 숫자로 시작할 수 없습니다.\n",
        "* 변수명은 언더바(_)를 제외한 특수문자를 사용할 수 없습니다.\n",
        "\n",
        "```\n",
        "---------------------------------------------------------------------------\n",
        "NameError                                 Traceback (most recent call last)\n",
        "<ipython-input-26-ab0680a89434> in <module>\n",
        "----> 1 n\n",
        "\n",
        "NameError: name 'n' is not defined\n",
        "\n",
        "```\n",
        "\n",
        "|연산자|기능|\n",
        "|--|--|\n",
        "| == | 비교연산 |\n",
        "| = | 할당연산 |"
      ]
    },
    {
      "cell_type": "code",
      "execution_count": null,
      "metadata": {
        "id": "6QnSkyUQLVe8"
      },
      "outputs": [],
      "source": [
        "# 정의되지 않은 변수를 출력해 보면 어떤 오류 메시지가 나오는지 확인해 봅니다.\n",
        "n = 1"
      ]
    },
    {
      "cell_type": "code",
      "execution_count": null,
      "metadata": {
        "id": "zJqmgDFzLVe8"
      },
      "outputs": [],
      "source": [
        "n_1 = 2"
      ]
    },
    {
      "cell_type": "markdown",
      "metadata": {
        "id": "IskzwJk4LVe8"
      },
      "source": [
        "## 응용\n",
        "* 변수에 값을 할당하고 면적을 구해 봅니다."
      ]
    },
    {
      "cell_type": "code",
      "execution_count": null,
      "metadata": {
        "id": "8laRv9x-LVe8",
        "colab": {
          "base_uri": "https://localhost:8080/"
        },
        "outputId": "034174df-a62a-417b-8fe9-6b23b7c2fac6"
      },
      "outputs": [
        {
          "output_type": "execute_result",
          "data": {
            "text/plain": [
              "40"
            ]
          },
          "metadata": {},
          "execution_count": 33
        }
      ],
      "source": [
        "# = 할당\n",
        "# 자전거수 = 20\n",
        "# 수리시간 = 2\n",
        "# 총수리시간\n",
        "\n",
        "자전거수 = 20\n",
        "수리시간 = 2\n",
        "총수리시간 = 자전거수 * 수리시간\n",
        "총수리시간"
      ]
    },
    {
      "cell_type": "code",
      "execution_count": null,
      "metadata": {
        "id": "oduqWdvpLVe9",
        "colab": {
          "base_uri": "https://localhost:8080/"
        },
        "outputId": "cfc524eb-7f87-453e-df5b-9062a0160bd6"
      },
      "outputs": [
        {
          "output_type": "execute_result",
          "data": {
            "text/plain": [
              "False"
            ]
          },
          "metadata": {},
          "execution_count": 34
        }
      ],
      "source": [
        "# == 비교\n",
        "총수리시간 == 30"
      ]
    },
    {
      "cell_type": "code",
      "execution_count": null,
      "metadata": {
        "id": "C0IO63ZfLVe9",
        "colab": {
          "base_uri": "https://localhost:8080/"
        },
        "outputId": "85ea933e-7676-4508-f41f-2f56be6e0160"
      },
      "outputs": [
        {
          "output_type": "execute_result",
          "data": {
            "text/plain": [
              "200"
            ]
          },
          "metadata": {},
          "execution_count": 35
        }
      ],
      "source": [
        "width = 10\n",
        "height = 20\n",
        "width  * height"
      ]
    },
    {
      "cell_type": "markdown",
      "metadata": {
        "id": "DUlexbg0LVe9"
      },
      "source": [
        "## 문자열\n",
        "* https://docs.python.org/ko/3/tutorial/introduction.html#strings\n",
        "### 문자열 정의"
      ]
    },
    {
      "cell_type": "code",
      "execution_count": null,
      "metadata": {
        "id": "p4jG6BL7LVe9",
        "colab": {
          "base_uri": "https://localhost:8080/",
          "height": 36
        },
        "outputId": "b32020b2-f638-4fb4-df92-28020a2e17c9"
      },
      "outputs": [
        {
          "output_type": "execute_result",
          "data": {
            "text/plain": [
              "'문자열을 정의 합니다.'"
            ],
            "application/vnd.google.colaboratory.intrinsic+json": {
              "type": "string"
            }
          },
          "metadata": {},
          "execution_count": 36
        }
      ],
      "source": [
        "# 큰따옴표로 문자열을 정의합니다.\n",
        "\"문자열을 정의 합니다.\""
      ]
    },
    {
      "cell_type": "code",
      "execution_count": null,
      "metadata": {
        "id": "YU8oeG4OLVe9",
        "colab": {
          "base_uri": "https://localhost:8080/",
          "height": 36
        },
        "outputId": "575d4e13-ab18-4da8-f025-53e8eacd1523"
      },
      "outputs": [
        {
          "output_type": "execute_result",
          "data": {
            "text/plain": [
              "'문자열을 정의합니다.'"
            ],
            "application/vnd.google.colaboratory.intrinsic+json": {
              "type": "string"
            }
          },
          "metadata": {},
          "execution_count": 37
        }
      ],
      "source": [
        "# 작은따옴표로 문자열을 정의합니다.\n",
        "'문자열을 정의합니다.'"
      ]
    },
    {
      "cell_type": "code",
      "execution_count": null,
      "metadata": {
        "id": "6eUOMS6xLVe9",
        "colab": {
          "base_uri": "https://localhost:8080/",
          "height": 36
        },
        "outputId": "cf6a75d7-7ceb-4572-9b28-4f8792e975c0"
      },
      "outputs": [
        {
          "output_type": "execute_result",
          "data": {
            "text/plain": [
              "\"한신대 AiBcenter's Python class\""
            ],
            "application/vnd.google.colaboratory.intrinsic+json": {
              "type": "string"
            }
          },
          "metadata": {},
          "execution_count": 38
        }
      ],
      "source": [
        "# 큰따옴표와 작은따옴표의 차이를 알아봅니다.\n",
        "# \"\" 안에 ' 을 사용하거나 반대의 경우\n",
        "# \\\"\" , \\' 로 사용하는 경우도 있음\n",
        "\n",
        "\"한신대 AiBcenter's Python class\""
      ]
    },
    {
      "cell_type": "code",
      "execution_count": null,
      "metadata": {
        "id": "oalFCyrhLVe9",
        "colab": {
          "base_uri": "https://localhost:8080/",
          "height": 36
        },
        "outputId": "c271328e-d3b9-4f9a-e2fc-dd05ee0ff6c9"
      },
      "outputs": [
        {
          "output_type": "execute_result",
          "data": {
            "text/plain": [
              "'줄바꿈\\n문자를\\n표현합니다.'"
            ],
            "application/vnd.google.colaboratory.intrinsic+json": {
              "type": "string"
            }
          },
          "metadata": {},
          "execution_count": 39
        }
      ],
      "source": [
        "# 줄바꿈 문자를 표현합니다.\n",
        "\"\"\"줄바꿈\n",
        "문자를\n",
        "표현합니다.\"\"\""
      ]
    },
    {
      "cell_type": "code",
      "execution_count": null,
      "metadata": {
        "id": "e6WRyb75LVe-",
        "colab": {
          "base_uri": "https://localhost:8080/",
          "height": 36
        },
        "outputId": "117ea8da-699f-4986-ac5c-755c47c70b73"
      },
      "outputs": [
        {
          "output_type": "execute_result",
          "data": {
            "text/plain": [
              "'---'"
            ],
            "application/vnd.google.colaboratory.intrinsic+json": {
              "type": "string"
            }
          },
          "metadata": {},
          "execution_count": 40
        }
      ],
      "source": [
        "# *를 통해 문자를 반복 출력합니다.\n",
        "# \"-\" + 10\n",
        "\"-\" * 3"
      ]
    },
    {
      "cell_type": "code",
      "execution_count": null,
      "metadata": {
        "id": "yw4du_L9LVe-"
      },
      "outputs": [],
      "source": [
        "\n"
      ]
    },
    {
      "cell_type": "code",
      "execution_count": null,
      "metadata": {
        "id": "0qmTSlX2LVe-"
      },
      "outputs": [],
      "source": [
        ""
      ]
    },
    {
      "cell_type": "code",
      "execution_count": null,
      "metadata": {
        "id": "dqde7EhSLVe-"
      },
      "outputs": [],
      "source": [
        "# \"1\" + 1"
      ]
    },
    {
      "cell_type": "markdown",
      "metadata": {
        "id": "rFpRFJXOLVe-"
      },
      "source": [
        "### 문자열 인덱싱\n",
        "\n",
        "\n",
        "```\n",
        " +---+---+---+---+---+---+\n",
        " | P | y | t | h | o | n |\n",
        " +---+---+---+---+---+---+\n",
        " 0   1   2   3   4   5   6\n",
        "-6  -5  -4  -3  -2  -1\n",
        "```"
      ]
    },
    {
      "cell_type": "code",
      "execution_count": null,
      "metadata": {
        "scrolled": true,
        "id": "_NQ-26YRLVe-",
        "colab": {
          "base_uri": "https://localhost:8080/",
          "height": 36
        },
        "outputId": "52ffd65e-79f7-4f09-f83e-a6f1153cb816"
      },
      "outputs": [
        {
          "output_type": "execute_result",
          "data": {
            "text/plain": [
              "'한신대학교(오산캠퍼스) : 우(18101) 경기도 오산시 한신대길 137(양산동) / T(031) 379-0114 AiBcenter'"
            ],
            "application/vnd.google.colaboratory.intrinsic+json": {
              "type": "string"
            }
          },
          "metadata": {},
          "execution_count": 41
        }
      ],
      "source": [
        "# 변수에 담긴 문자열의 위치를 알아봅니다.\n",
        "address = \"한신대학교(오산캠퍼스) : 우(18101) 경기도 오산시 한신대길 137(양산동) / T(031) 379-0114 AiBcenter\"\n",
        "address"
      ]
    },
    {
      "cell_type": "code",
      "execution_count": null,
      "metadata": {
        "id": "D7pP1WHHLVe_",
        "colab": {
          "base_uri": "https://localhost:8080/",
          "height": 36
        },
        "outputId": "5b98780c-6432-468b-9e80-a24a6555bcff"
      },
      "outputs": [
        {
          "output_type": "execute_result",
          "data": {
            "text/plain": [
              "'한'"
            ],
            "application/vnd.google.colaboratory.intrinsic+json": {
              "type": "string"
            }
          },
          "metadata": {},
          "execution_count": 44
        }
      ],
      "source": [
        "# 0번 인덱스의 원소를 가져옵니다.\n",
        "address[0]"
      ]
    },
    {
      "cell_type": "code",
      "execution_count": null,
      "metadata": {
        "id": "FUoBiYPhLVe_",
        "colab": {
          "base_uri": "https://localhost:8080/",
          "height": 36
        },
        "outputId": "6a33b537-cdb3-4889-dcb0-1f3f43f7b2e0"
      },
      "outputs": [
        {
          "output_type": "execute_result",
          "data": {
            "text/plain": [
              "'신'"
            ],
            "application/vnd.google.colaboratory.intrinsic+json": {
              "type": "string"
            }
          },
          "metadata": {},
          "execution_count": 45
        }
      ],
      "source": [
        "# 1번 인덱스의 원소를 가져옵니다.\n",
        "address[1]"
      ]
    },
    {
      "cell_type": "code",
      "execution_count": null,
      "metadata": {
        "id": "6d2RSw1qLVe_",
        "colab": {
          "base_uri": "https://localhost:8080/",
          "height": 36
        },
        "outputId": "a741571b-9c24-4aa7-be3d-d55ecf164981"
      },
      "outputs": [
        {
          "output_type": "execute_result",
          "data": {
            "text/plain": [
              "'r'"
            ],
            "application/vnd.google.colaboratory.intrinsic+json": {
              "type": "string"
            }
          },
          "metadata": {},
          "execution_count": 47
        }
      ],
      "source": [
        "# 마지막 인덱스의 원소를 가져옵니다.\n",
        "address[-1]"
      ]
    },
    {
      "cell_type": "markdown",
      "metadata": {
        "id": "1C7HV3BILVe_"
      },
      "source": [
        "### 문자열 슬라이싱"
      ]
    },
    {
      "cell_type": "code",
      "execution_count": null,
      "metadata": {
        "id": "9-Mi7dBELVe_",
        "colab": {
          "base_uri": "https://localhost:8080/",
          "height": 36
        },
        "outputId": "5273305b-454d-4fb7-8515-7d39660469ed"
      },
      "outputs": [
        {
          "output_type": "execute_result",
          "data": {
            "text/plain": [
              "'한신대학교(오'"
            ],
            "application/vnd.google.colaboratory.intrinsic+json": {
              "type": "string"
            }
          },
          "metadata": {},
          "execution_count": 49
        }
      ],
      "source": [
        "# [시작인덱스:끝나는인덱스+1] 로 문자열의 일부를 가져옵니다.\n",
        "# 앞에서 7개 글자만 가져옵니다.\n",
        "address[:7]"
      ]
    },
    {
      "cell_type": "code",
      "execution_count": null,
      "metadata": {
        "id": "lJDZRSPmLVe_",
        "colab": {
          "base_uri": "https://localhost:8080/",
          "height": 36
        },
        "outputId": "1f7b88c0-9c88-4b42-b59f-d186b590b23c"
      },
      "outputs": [
        {
          "output_type": "execute_result",
          "data": {
            "text/plain": [
              "' AiBcenter'"
            ],
            "application/vnd.google.colaboratory.intrinsic+json": {
              "type": "string"
            }
          },
          "metadata": {},
          "execution_count": 55
        }
      ],
      "source": [
        "# 뒤에서 10개 글자만 가져옵니다.\n",
        "address[-10:]"
      ]
    },
    {
      "cell_type": "code",
      "execution_count": null,
      "metadata": {
        "id": "j5BPLXV7LVe_",
        "colab": {
          "base_uri": "https://localhost:8080/",
          "height": 36
        },
        "outputId": "634daa98-46ee-4de3-a7f9-b7273c755f27"
      },
      "outputs": [
        {
          "output_type": "execute_result",
          "data": {
            "text/plain": [
              "'대학교('"
            ],
            "application/vnd.google.colaboratory.intrinsic+json": {
              "type": "string"
            }
          },
          "metadata": {},
          "execution_count": 54
        }
      ],
      "source": [
        "# 2번 인덱스부터 4개의 글자만 가져옵니다.\n",
        "address[2:6]"
      ]
    },
    {
      "cell_type": "code",
      "source": [
        "# '오산캠퍼스' 글자만 가져오기\n",
        "address[6:11]"
      ],
      "metadata": {
        "colab": {
          "base_uri": "https://localhost:8080/",
          "height": 36
        },
        "id": "QTxC5LkQVQx2",
        "outputId": "66e484ad-e672-452e-b776-1d7b737c064c"
      },
      "execution_count": null,
      "outputs": [
        {
          "output_type": "execute_result",
          "data": {
            "text/plain": [
              "'오산캠퍼스'"
            ],
            "application/vnd.google.colaboratory.intrinsic+json": {
              "type": "string"
            }
          },
          "metadata": {},
          "execution_count": 53
        }
      ]
    },
    {
      "cell_type": "markdown",
      "metadata": {
        "id": "WMITOfWJLVfA"
      },
      "source": [
        "### 문자열 함수\n",
        "* https://docs.python.org/ko/3/library/stdtypes.html#string-methods"
      ]
    },
    {
      "cell_type": "code",
      "execution_count": null,
      "metadata": {
        "id": "Td7ab_7ILVfA",
        "colab": {
          "base_uri": "https://localhost:8080/",
          "height": 36
        },
        "outputId": "1d09a266-bbde-4a58-9de4-54ae894bc5a2"
      },
      "outputs": [
        {
          "output_type": "execute_result",
          "data": {
            "text/plain": [
              "'한신대학교(오산캠퍼스) : 우(18101) 경기도 오산시 한신대길 137(양산동) / t(031) 379-0114 aibcenter'"
            ],
            "application/vnd.google.colaboratory.intrinsic+json": {
              "type": "string"
            }
          },
          "metadata": {},
          "execution_count": 56
        }
      ],
      "source": [
        "# 소문자로 변환합니다.\n",
        "address.lower()"
      ]
    },
    {
      "cell_type": "code",
      "execution_count": null,
      "metadata": {
        "id": "CNPi1Fh9LVfA",
        "colab": {
          "base_uri": "https://localhost:8080/",
          "height": 36
        },
        "outputId": "cd5e21fa-c280-45ef-a04f-86f2aad2e227"
      },
      "outputs": [
        {
          "output_type": "execute_result",
          "data": {
            "text/plain": [
              "'한신대학교(오산캠퍼스) : 우(18101) 경기도 오산시 한신대길 137(양산동) / T(031) 379-0114 AIBCENTER'"
            ],
            "application/vnd.google.colaboratory.intrinsic+json": {
              "type": "string"
            }
          },
          "metadata": {},
          "execution_count": 57
        }
      ],
      "source": [
        "# 대문자로 변환합니다.\n",
        "address.upper()"
      ]
    },
    {
      "cell_type": "code",
      "execution_count": null,
      "metadata": {
        "id": "yxMvbSF9LVfA",
        "colab": {
          "base_uri": "https://localhost:8080/"
        },
        "outputId": "8d5792ec-d98d-48b9-bfec-34d4895a2eb0"
      },
      "outputs": [
        {
          "output_type": "execute_result",
          "data": {
            "text/plain": [
              "False"
            ]
          },
          "metadata": {},
          "execution_count": 58
        }
      ],
      "source": [
        "'python' == 'PYTHON'"
      ]
    },
    {
      "cell_type": "code",
      "execution_count": null,
      "metadata": {
        "id": "sHyH0CqZLVfA",
        "colab": {
          "base_uri": "https://localhost:8080/",
          "height": 36
        },
        "outputId": "fa3ab817-725d-41cb-b245-7aab3ca082f2"
      },
      "outputs": [
        {
          "output_type": "execute_result",
          "data": {
            "text/plain": [
              "'한신대학교'"
            ],
            "application/vnd.google.colaboratory.intrinsic+json": {
              "type": "string"
            }
          },
          "metadata": {},
          "execution_count": 59
        }
      ],
      "source": [
        "# 양끝 공백제거\n",
        "\" 한신대학교 \".strip()"
      ]
    },
    {
      "cell_type": "code",
      "source": [
        "# 문자열의 길이\n",
        "len(address)"
      ],
      "metadata": {
        "colab": {
          "base_uri": "https://localhost:8080/"
        },
        "id": "iLyEq6c8WlBz",
        "outputId": "586b5710-04c7-4902-af74-53e999d395b5"
      },
      "execution_count": null,
      "outputs": [
        {
          "output_type": "execute_result",
          "data": {
            "text/plain": [
              "73"
            ]
          },
          "metadata": {},
          "execution_count": 61
        }
      ]
    },
    {
      "cell_type": "code",
      "execution_count": null,
      "metadata": {
        "id": "IcdWGM9lLVfB",
        "colab": {
          "base_uri": "https://localhost:8080/"
        },
        "outputId": "555e11b0-6f3b-4c04-b866-cbc1c92e49c7"
      },
      "outputs": [
        {
          "output_type": "execute_result",
          "data": {
            "text/plain": [
              "['__add__',\n",
              " '__class__',\n",
              " '__contains__',\n",
              " '__delattr__',\n",
              " '__dir__',\n",
              " '__doc__',\n",
              " '__eq__',\n",
              " '__format__',\n",
              " '__ge__',\n",
              " '__getattribute__',\n",
              " '__getitem__',\n",
              " '__getnewargs__',\n",
              " '__gt__',\n",
              " '__hash__',\n",
              " '__init__',\n",
              " '__init_subclass__',\n",
              " '__iter__',\n",
              " '__le__',\n",
              " '__len__',\n",
              " '__lt__',\n",
              " '__mod__',\n",
              " '__mul__',\n",
              " '__ne__',\n",
              " '__new__',\n",
              " '__reduce__',\n",
              " '__reduce_ex__',\n",
              " '__repr__',\n",
              " '__rmod__',\n",
              " '__rmul__',\n",
              " '__setattr__',\n",
              " '__sizeof__',\n",
              " '__str__',\n",
              " '__subclasshook__',\n",
              " 'capitalize',\n",
              " 'casefold',\n",
              " 'center',\n",
              " 'count',\n",
              " 'encode',\n",
              " 'endswith',\n",
              " 'expandtabs',\n",
              " 'find',\n",
              " 'format',\n",
              " 'format_map',\n",
              " 'index',\n",
              " 'isalnum',\n",
              " 'isalpha',\n",
              " 'isascii',\n",
              " 'isdecimal',\n",
              " 'isdigit',\n",
              " 'isidentifier',\n",
              " 'islower',\n",
              " 'isnumeric',\n",
              " 'isprintable',\n",
              " 'isspace',\n",
              " 'istitle',\n",
              " 'isupper',\n",
              " 'join',\n",
              " 'ljust',\n",
              " 'lower',\n",
              " 'lstrip',\n",
              " 'maketrans',\n",
              " 'partition',\n",
              " 'replace',\n",
              " 'rfind',\n",
              " 'rindex',\n",
              " 'rjust',\n",
              " 'rpartition',\n",
              " 'rsplit',\n",
              " 'rstrip',\n",
              " 'split',\n",
              " 'splitlines',\n",
              " 'startswith',\n",
              " 'strip',\n",
              " 'swapcase',\n",
              " 'title',\n",
              " 'translate',\n",
              " 'upper',\n",
              " 'zfill']"
            ]
          },
          "metadata": {},
          "execution_count": 60
        }
      ],
      "source": [
        "# address. 의 메서드\n",
        "dir(address)"
      ]
    },
    {
      "cell_type": "markdown",
      "metadata": {
        "id": "1IzsB959LVfB"
      },
      "source": [
        "## 리스트\n",
        "* https://docs.python.org/ko/3/tutorial/introduction.html#lists"
      ]
    },
    {
      "cell_type": "code",
      "execution_count": null,
      "metadata": {
        "id": "cuGKIeTTLVfB"
      },
      "outputs": [],
      "source": [
        "# 리스트 값을 생성합니다.\n",
        "gu = ['강남구', '강동구', '강북구', '강서구', '관악구', \n",
        "      '광진구', '구로구', '금천구', '노원구', '도봉구', \n",
        "      '동대문구', '동작구', '마포구', '서대문구', '서초구', \n",
        "      '성동구', '성북구', '송파구', '양천구', '영등포구', \n",
        "      '용산구', '은평구', '종로구', '중구', '중랑구']"
      ]
    },
    {
      "cell_type": "code",
      "execution_count": null,
      "metadata": {
        "id": "V0nlEa97LVfB",
        "colab": {
          "base_uri": "https://localhost:8080/"
        },
        "outputId": "aadfda02-6b1b-41c1-f0e1-e080a7d2f849"
      },
      "outputs": [
        {
          "output_type": "execute_result",
          "data": {
            "text/plain": [
              "25"
            ]
          },
          "metadata": {},
          "execution_count": 70
        }
      ],
      "source": [
        "len(gu)"
      ]
    },
    {
      "cell_type": "markdown",
      "metadata": {
        "id": "UDp5oQLtLVfB"
      },
      "source": [
        "### 리스트 인덱싱"
      ]
    },
    {
      "cell_type": "code",
      "execution_count": null,
      "metadata": {
        "id": "A_KoROeyLVfB",
        "colab": {
          "base_uri": "https://localhost:8080/",
          "height": 36
        },
        "outputId": "de13a9e3-0e58-4a9b-a7dc-8433aeab6367"
      },
      "outputs": [
        {
          "output_type": "execute_result",
          "data": {
            "text/plain": [
              "'강남구'"
            ],
            "application/vnd.google.colaboratory.intrinsic+json": {
              "type": "string"
            }
          },
          "metadata": {},
          "execution_count": 64
        }
      ],
      "source": [
        "# 인덱스 번호는 0부터 시작합니다. 0번 인덱스를 가져옵니다.\n",
        "gu[0]"
      ]
    },
    {
      "cell_type": "code",
      "execution_count": null,
      "metadata": {
        "id": "Te57Da4qLVfC",
        "colab": {
          "base_uri": "https://localhost:8080/",
          "height": 36
        },
        "outputId": "2ae751de-7ceb-40b5-acee-d8b467283fa0"
      },
      "outputs": [
        {
          "output_type": "execute_result",
          "data": {
            "text/plain": [
              "'중랑구'"
            ],
            "application/vnd.google.colaboratory.intrinsic+json": {
              "type": "string"
            }
          },
          "metadata": {},
          "execution_count": 65
        }
      ],
      "source": [
        "# 마지막 인덱스는 -1 로 가져올 수 있습니다.\n",
        "gu[-1]"
      ]
    },
    {
      "cell_type": "code",
      "execution_count": null,
      "metadata": {
        "id": "JyBavFQ3LVfC",
        "colab": {
          "base_uri": "https://localhost:8080/",
          "height": 36
        },
        "outputId": "263e1727-d0df-46c7-b9c6-0f29da3a4d89"
      },
      "outputs": [
        {
          "output_type": "execute_result",
          "data": {
            "text/plain": [
              "'중구'"
            ],
            "application/vnd.google.colaboratory.intrinsic+json": {
              "type": "string"
            }
          },
          "metadata": {},
          "execution_count": 66
        }
      ],
      "source": [
        "# 뒤에서 2번째 값을 가져옵니다.\n",
        "gu[-2]"
      ]
    },
    {
      "cell_type": "markdown",
      "metadata": {
        "id": "25Yoa3UwLVfC"
      },
      "source": [
        "### 리스트 슬라이싱"
      ]
    },
    {
      "cell_type": "code",
      "execution_count": null,
      "metadata": {
        "id": "OsUXJWjNLVfC",
        "colab": {
          "base_uri": "https://localhost:8080/"
        },
        "outputId": "114f87e3-2b38-4570-d25f-9e81f909b0d7"
      },
      "outputs": [
        {
          "output_type": "execute_result",
          "data": {
            "text/plain": [
              "['강남구', '강동구', '강북구', '강서구', '관악구']"
            ]
          },
          "metadata": {},
          "execution_count": 67
        }
      ],
      "source": [
        "# [시작인덱스:끝나는인덱스+1]\n",
        "gu[:5]"
      ]
    },
    {
      "cell_type": "code",
      "source": [
        "gu[-5:]"
      ],
      "metadata": {
        "colab": {
          "base_uri": "https://localhost:8080/"
        },
        "id": "xLaDmGcQXyIe",
        "outputId": "d5924232-a10a-45d5-f0cc-9545f78b92e0"
      },
      "execution_count": null,
      "outputs": [
        {
          "output_type": "execute_result",
          "data": {
            "text/plain": [
              "['용산구', '은평구', '종로구', '중구', '중랑구']"
            ]
          },
          "metadata": {},
          "execution_count": 68
        }
      ]
    },
    {
      "cell_type": "code",
      "source": [
        "gu[5:10]"
      ],
      "metadata": {
        "colab": {
          "base_uri": "https://localhost:8080/"
        },
        "id": "4cNQKLWFX0Lx",
        "outputId": "2df97577-1bb9-47d3-9d99-6bd2efde73db"
      },
      "execution_count": null,
      "outputs": [
        {
          "output_type": "execute_result",
          "data": {
            "text/plain": [
              "['광진구', '구로구', '금천구', '노원구', '도봉구']"
            ]
          },
          "metadata": {},
          "execution_count": 69
        }
      ]
    },
    {
      "cell_type": "markdown",
      "metadata": {
        "id": "Vc2EzAiHLVfC"
      },
      "source": [
        "### 리스트의 함수"
      ]
    },
    {
      "cell_type": "code",
      "execution_count": null,
      "metadata": {
        "id": "3Q16oFbKLVfD",
        "colab": {
          "base_uri": "https://localhost:8080/"
        },
        "outputId": "b9bfb149-41ad-46b3-f7c1-f1fdfc382442"
      },
      "outputs": [
        {
          "output_type": "execute_result",
          "data": {
            "text/plain": [
              "['강남구',\n",
              " '강동구',\n",
              " '강북구',\n",
              " '강서구',\n",
              " '관악구',\n",
              " '광진구',\n",
              " '구로구',\n",
              " '금천구',\n",
              " '노원구',\n",
              " '도봉구',\n",
              " '동대문구',\n",
              " '동작구',\n",
              " '마포구',\n",
              " '서대문구',\n",
              " '서초구',\n",
              " '성동구',\n",
              " '성북구',\n",
              " '송파구',\n",
              " '양천구',\n",
              " '영등포구',\n",
              " '용산구',\n",
              " '은평구',\n",
              " '종로구',\n",
              " '중구',\n",
              " '중랑구',\n",
              " '기타',\n",
              " '기타',\n",
              " '기타',\n",
              " '기타']"
            ]
          },
          "metadata": {},
          "execution_count": 74
        }
      ],
      "source": [
        "# append로 \"기타\" 값을 추가합니다. \n",
        "gu.append(\"기타\")\n",
        "gu"
      ]
    },
    {
      "cell_type": "code",
      "execution_count": null,
      "metadata": {
        "id": "HcAvV20WLVfD",
        "colab": {
          "base_uri": "https://localhost:8080/"
        },
        "outputId": "c992b1fb-01e9-45a4-9fcf-b60c2fc7db9d"
      },
      "outputs": [
        {
          "output_type": "execute_result",
          "data": {
            "text/plain": [
              "['강남구',\n",
              " '강동구',\n",
              " '강북구',\n",
              " '강서구',\n",
              " '관악구',\n",
              " '광진구',\n",
              " '구로구',\n",
              " '금천구',\n",
              " '노원구',\n",
              " '도봉구',\n",
              " '동대문구',\n",
              " '동작구',\n",
              " '마포구',\n",
              " '서대문구',\n",
              " '서초구',\n",
              " '성동구',\n",
              " '성북구',\n",
              " '송파구',\n",
              " '양천구',\n",
              " '영등포구',\n",
              " '용산구',\n",
              " '은평구',\n",
              " '종로구',\n",
              " '중구',\n",
              " '중랑구']"
            ]
          },
          "metadata": {},
          "execution_count": 81
        }
      ],
      "source": [
        "# remove로 값을 제거합니다.\n",
        "gu.remove(\"기타\")\n",
        "gu"
      ]
    },
    {
      "cell_type": "markdown",
      "metadata": {
        "id": "tMHPs8F6LVfD"
      },
      "source": [
        "## 딕셔너리\n",
        "* https://docs.python.org/ko/3/tutorial/datastructures.html#dictionaries"
      ]
    },
    {
      "cell_type": "code",
      "execution_count": null,
      "metadata": {
        "id": "e4h1O_skLVfD",
        "colab": {
          "base_uri": "https://localhost:8080/"
        },
        "outputId": "316a44c0-ba51-4ac0-b23b-9b2dd2287996"
      },
      "outputs": [
        {
          "output_type": "execute_result",
          "data": {
            "text/plain": [
              "{'동작구': 4139, '은평구': 4098, '마포구': 100}"
            ]
          },
          "metadata": {},
          "execution_count": 82
        }
      ],
      "source": [
        "# {키:값} 형식으로 되어 있습니다.\n",
        "# 딕셔너리를 정의합니다.\n",
        "# \"대여가능\" 변수에 구별 대여가능 수량을 표시해 봅니다.\n",
        "대여가능 = {'동작구': 4139, '은평구': 4098, '마포구': 100}\n",
        "대여가능"
      ]
    },
    {
      "cell_type": "code",
      "execution_count": null,
      "metadata": {
        "scrolled": true,
        "id": "qU8nsZAoLVfD",
        "colab": {
          "base_uri": "https://localhost:8080/"
        },
        "outputId": "0a1d1e48-c7bc-4c34-977a-fd6f37734e3d"
      },
      "outputs": [
        {
          "output_type": "execute_result",
          "data": {
            "text/plain": [
              "{'동작구': 4139, '은평구': 4098, '마포구': 100, '종로구': 500}"
            ]
          },
          "metadata": {},
          "execution_count": 83
        }
      ],
      "source": [
        "# \"대여가능\"에 \"종로구\"을 추가해 봅니다.\n",
        "대여가능[\"종로구\"] = 500\n",
        "대여가능"
      ]
    },
    {
      "cell_type": "code",
      "execution_count": null,
      "metadata": {
        "id": "2j26TbxBLVfE",
        "colab": {
          "base_uri": "https://localhost:8080/"
        },
        "outputId": "2f8719aa-24be-43cb-d42f-35acfe03c977"
      },
      "outputs": [
        {
          "output_type": "execute_result",
          "data": {
            "text/plain": [
              "500"
            ]
          },
          "metadata": {},
          "execution_count": 84
        }
      ],
      "source": [
        "# 키를 통해 \"종로구\"의 값을 가져옵니다.\n",
        "대여가능[\"종로구\"]"
      ]
    },
    {
      "cell_type": "code",
      "execution_count": null,
      "metadata": {
        "id": "IaxOukziLVfE",
        "colab": {
          "base_uri": "https://localhost:8080/"
        },
        "outputId": "1b3632d3-68fb-4fb2-f168-0f5f7a95b64c"
      },
      "outputs": [
        {
          "output_type": "execute_result",
          "data": {
            "text/plain": [
              "{'동작구': 4139, '은평구': 4098, '마포구': 100, '종로구': 500, '중구': 600}"
            ]
          },
          "metadata": {},
          "execution_count": 87
        }
      ],
      "source": [
        "# \"중구\" 도 추가해 봅니다.\n",
        "대여가능[\"중구\"] = 600\n",
        "대여가능"
      ]
    },
    {
      "cell_type": "code",
      "execution_count": null,
      "metadata": {
        "id": "NcKLfFq5LVfE"
      },
      "outputs": [],
      "source": [
        "# del을 통해 값을 제거할 수 있습니다.\n",
        "del 대여가능[\"중구\"]"
      ]
    },
    {
      "cell_type": "code",
      "execution_count": null,
      "metadata": {
        "id": "wZ4V_RcULVfE",
        "colab": {
          "base_uri": "https://localhost:8080/"
        },
        "outputId": "ba43578d-d209-4c07-e532-8a27a0819424"
      },
      "outputs": [
        {
          "output_type": "execute_result",
          "data": {
            "text/plain": [
              "{'동작구': 4139, '은평구': 4098, '마포구': 100, '종로구': 500}"
            ]
          },
          "metadata": {},
          "execution_count": 89
        }
      ],
      "source": [
        "# 값이 잘 제거되었는지 확인합니다.\n",
        "대여가능"
      ]
    },
    {
      "cell_type": "code",
      "source": [
        ""
      ],
      "metadata": {
        "id": "5TGj-qluJ3tg"
      },
      "execution_count": null,
      "outputs": []
    }
  ],
  "metadata": {
    "colab": {
      "collapsed_sections": [],
      "provenance": [],
      "name": "0101-python-basic-type-input.ipynb의 사본",
      "include_colab_link": true
    },
    "kernelspec": {
      "display_name": "Python 3 (ipykernel)",
      "language": "python",
      "name": "python3"
    },
    "language_info": {
      "codemirror_mode": {
        "name": "ipython",
        "version": 3
      },
      "file_extension": ".py",
      "mimetype": "text/x-python",
      "name": "python",
      "nbconvert_exporter": "python",
      "pygments_lexer": "ipython3",
      "version": "3.7.13"
    },
    "toc": {
      "base_numbering": 1,
      "nav_menu": {},
      "number_sections": true,
      "sideBar": true,
      "skip_h1_title": false,
      "title_cell": "Table of Contents",
      "title_sidebar": "Contents",
      "toc_cell": false,
      "toc_position": {},
      "toc_section_display": true,
      "toc_window_display": false
    },
    "varInspector": {
      "cols": {
        "lenName": 16,
        "lenType": 16,
        "lenVar": 40
      },
      "kernels_config": {
        "python": {
          "delete_cmd_postfix": "",
          "delete_cmd_prefix": "del ",
          "library": "var_list.py",
          "varRefreshCmd": "print(var_dic_list())"
        },
        "r": {
          "delete_cmd_postfix": ") ",
          "delete_cmd_prefix": "rm(",
          "library": "var_list.r",
          "varRefreshCmd": "cat(var_dic_list()) "
        }
      },
      "types_to_exclude": [
        "module",
        "function",
        "builtin_function_or_method",
        "instance",
        "_Feature"
      ],
      "window_display": false
    }
  },
  "nbformat": 4,
  "nbformat_minor": 0
}