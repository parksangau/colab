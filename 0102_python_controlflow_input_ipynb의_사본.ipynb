{
  "cells": [
    {
      "cell_type": "markdown",
      "metadata": {
        "id": "view-in-github",
        "colab_type": "text"
      },
      "source": [
        "<a href=\"https://colab.research.google.com/github/parksangau/colab/blob/main/0102_python_controlflow_input_ipynb%EC%9D%98_%EC%82%AC%EB%B3%B8.ipynb\" target=\"_parent\"><img src=\"https://colab.research.google.com/assets/colab-badge.svg\" alt=\"Open In Colab\"/></a>"
      ]
    },
    {
      "cell_type": "markdown",
      "metadata": {
        "id": "r5uz5D8ranS2"
      },
      "source": [
        "## 조건문\n",
        "### if\n",
        "* https://docs.python.org/ko/3/tutorial/controlflow.html#if-statements"
      ]
    },
    {
      "cell_type": "code",
      "execution_count": null,
      "metadata": {
        "id": "w3xvoQHvanS6",
        "colab": {
          "base_uri": "https://localhost:8080/"
        },
        "outputId": "68d7da5f-5609-45ab-fbfe-1c9682bc98bd"
      },
      "outputs": [
        {
          "output_type": "stream",
          "name": "stdout",
          "text": [
            "Please enter an integer: 0\n",
            "제로\n"
          ]
        }
      ],
      "source": [
        "# 숫자를 입력받아 음수와 양수 여부를 출력합니다.\n",
        "x = int(input(\"Please enter an integer: \"))\n",
        "\n",
        "if x > 0:\n",
        "    print(\"양수\")\n",
        "elif x == 0:\n",
        "    print(\"제로\")\n",
        "else :\n",
        "    print(\"음수\")"
      ]
    },
    {
      "cell_type": "markdown",
      "metadata": {
        "id": "RYoFgTyeanS8"
      },
      "source": [
        "## 반복문\n",
        "### for\n",
        "* https://docs.python.org/ko/3/tutorial/controlflow.html#for-statements"
      ]
    },
    {
      "cell_type": "code",
      "execution_count": null,
      "metadata": {
        "id": "PEur40LAanS8",
        "colab": {
          "base_uri": "https://localhost:8080/"
        },
        "outputId": "d1d9e287-d5a5-4b20-8b74-0a088f4269e3"
      },
      "outputs": [
        {
          "output_type": "stream",
          "name": "stdout",
          "text": [
            "월, 화, 수, 목, 금, 토, 일, "
          ]
        }
      ],
      "source": [
        "# \"월화수목금토일\" 을 리스트 형태로 변경합니다.\n",
        "weekday = []\n",
        "for w in \"월화수목금토일\":\n",
        "    weekday.append(w)\n",
        "    print(w, end=\", \")"
      ]
    },
    {
      "cell_type": "code",
      "execution_count": null,
      "metadata": {
        "id": "n2kdlgtfanS9",
        "colab": {
          "base_uri": "https://localhost:8080/"
        },
        "outputId": "e4cf6cd2-9cba-43bf-b862-ffe12964e30d"
      },
      "outputs": [
        {
          "output_type": "stream",
          "name": "stdout",
          "text": [
            "월, 화, 수, 목, 금, 토, 일, "
          ]
        }
      ],
      "source": [
        "# 리스트 안에 있는 값을 순회하며 반복문으로 출력해 보세요.\n",
        "weekday = ['월', '화', '수', '목', '금', '토', '일']\n",
        "for 변수 in weekday:\n",
        "    print(변수, end=\", \")"
      ]
    },
    {
      "cell_type": "markdown",
      "metadata": {
        "id": "UIFhAT41anS9"
      },
      "source": [
        "### range() 함수\n",
        "* https://docs.python.org/ko/3/tutorial/controlflow.html#the-range-function\n",
        "\n",
        "* range([초기치, ]최종치[, 증가치]) => [ ]안의 내용은 생략이 가능합니다.  \n",
        "* 초기치를 생략하면 0이, 증가치를 생략하면 1이 기본값으로 사용됩니다.\n",
        "* range()함수는 초기치, 최종치, 증가치에 따른 숫자 리스트를 만들어 줍니다.  \n",
        "* range(0, 10, 1) == range(10)입니다."
      ]
    },
    {
      "cell_type": "code",
      "execution_count": null,
      "metadata": {
        "id": "Y1QPfiqUanS-",
        "colab": {
          "base_uri": "https://localhost:8080/"
        },
        "outputId": "87cd52ca-a3d1-4b9b-b4b8-4588903196a5"
      },
      "outputs": [
        {
          "output_type": "execute_result",
          "data": {
            "text/plain": [
              "[0, 1, 2, 3, 4]"
            ]
          },
          "metadata": {},
          "execution_count": 9
        }
      ],
      "source": [
        "# range로 범위를 지정해 반복문을 수행할 수 있습니다.\n",
        "list(range(5))"
      ]
    },
    {
      "cell_type": "code",
      "source": [
        "# f-string == format string\n",
        "a = 1\n",
        "f\"?page={a}\""
      ],
      "metadata": {
        "colab": {
          "base_uri": "https://localhost:8080/",
          "height": 36
        },
        "id": "upHTPWMfvXQM",
        "outputId": "b82d56b2-5bed-43ff-90af-643755d32ce3"
      },
      "execution_count": null,
      "outputs": [
        {
          "output_type": "execute_result",
          "data": {
            "text/plain": [
              "'?page=1'"
            ],
            "application/vnd.google.colaboratory.intrinsic+json": {
              "type": "string"
            }
          },
          "metadata": {},
          "execution_count": 11
        }
      ]
    },
    {
      "cell_type": "code",
      "execution_count": null,
      "metadata": {
        "id": "1OiR2bFwanS_",
        "colab": {
          "base_uri": "https://localhost:8080/"
        },
        "outputId": "c1a7867c-235f-4441-c4e2-b640c21e5920"
      },
      "outputs": [
        {
          "output_type": "stream",
          "name": "stdout",
          "text": [
            "https://naver.com?page=1\n",
            "https://naver.com?page=2\n",
            "https://naver.com?page=3\n",
            "https://naver.com?page=4\n",
            "https://naver.com?page=5\n"
          ]
        }
      ],
      "source": [
        "# f-string 을 사용하여 특정 URL 페이지를 만들어 볼 수 있습니다.\n",
        "# 예) https://naver.com/?page=1\n",
        "for num in range(1, 6):\n",
        "    print(f\"https://naver.com?page={num}\")"
      ]
    },
    {
      "cell_type": "code",
      "execution_count": null,
      "metadata": {
        "id": "6LLwS2PJanTA",
        "colab": {
          "base_uri": "https://localhost:8080/"
        },
        "outputId": "5b04c0e8-05c8-445f-e1c2-a516384f420c"
      },
      "outputs": [
        {
          "output_type": "stream",
          "name": "stdout",
          "text": [
            "0 월\n",
            "1 화\n",
            "2 수\n",
            "3 목\n",
            "4 금\n",
            "5 토\n",
            "6 일\n"
          ]
        }
      ],
      "source": [
        "# 리스트를 변수로 받아 순회할 수도 있지만 리스트의 길이만큼 range 값을 생성하여 순회할 수도 있습니다.\n",
        "for i in range(len(weekday)):\n",
        "    print(i, weekday[i])"
      ]
    },
    {
      "cell_type": "code",
      "execution_count": null,
      "metadata": {
        "id": "LZ-OLFD2anTA",
        "colab": {
          "base_uri": "https://localhost:8080/"
        },
        "outputId": "851af111-9224-4a55-ef28-32bf684ccc46"
      },
      "outputs": [
        {
          "output_type": "stream",
          "name": "stdout",
          "text": [
            "0 월\n",
            "1 화\n",
            "2 수\n",
            "3 목\n",
            "4 금\n",
            "5 토\n",
            "6 일\n"
          ]
        }
      ],
      "source": [
        "# enumerate 가 조금 더 pythonic 한 방법이다.\n",
        "# enumerate 를 사용하면 인덱스 번호와 값을 함께 가져올 수 있습니다.\n",
        "for i, val in enumerate(weekday):\n",
        "    print(i, val)"
      ]
    },
    {
      "cell_type": "markdown",
      "metadata": {
        "id": "JBY2N5jLanTB"
      },
      "source": [
        "### 조건문과 반복문 함께 사용하기"
      ]
    },
    {
      "cell_type": "code",
      "source": [
        "3 % 2"
      ],
      "metadata": {
        "colab": {
          "base_uri": "https://localhost:8080/"
        },
        "id": "H6TjzYnIx6NX",
        "outputId": "3c408fdb-885d-458d-e084-bb19ba4fa978"
      },
      "execution_count": null,
      "outputs": [
        {
          "output_type": "execute_result",
          "data": {
            "text/plain": [
              "1"
            ]
          },
          "metadata": {},
          "execution_count": 15
        }
      ]
    },
    {
      "cell_type": "code",
      "source": [
        "4 % 2"
      ],
      "metadata": {
        "colab": {
          "base_uri": "https://localhost:8080/"
        },
        "id": "Km8czMJdx8nS",
        "outputId": "33a40602-3620-4654-c1ce-fd76a3ed1974"
      },
      "execution_count": null,
      "outputs": [
        {
          "output_type": "execute_result",
          "data": {
            "text/plain": [
              "0"
            ]
          },
          "metadata": {},
          "execution_count": 16
        }
      ]
    },
    {
      "cell_type": "code",
      "execution_count": null,
      "metadata": {
        "id": "WVSMLk3ManTB",
        "colab": {
          "base_uri": "https://localhost:8080/"
        },
        "outputId": "381eb912-7b71-473f-ee1f-490df194df2f"
      },
      "outputs": [
        {
          "output_type": "stream",
          "name": "stdout",
          "text": [
            "1 \b 홀수\n",
            "2 \b 짝수\n",
            "3 \b 홀수\n",
            "4 \b 짝수\n",
            "5 \b 홀수\n",
            "6 \b 짝수\n",
            "7 \b 홀수\n",
            "8 \b 짝수\n",
            "9 \b 홀수\n",
            "10 \b 짝수\n",
            "*이 메세지는 for문 밖에서 출력됩니다.\n"
          ]
        }
      ],
      "source": [
        "# range로 값을 순회하며 짝수일 때는 \"짝수\"를 홀수일 때는 \"홀수\"를 출력하게 합니다.\n",
        "for i in range(1, 11):\n",
        "    if i % 2 == 0:\n",
        "        print(i, \"\b 짝수\")\n",
        "    else:\n",
        "        print(i, \"\b 홀수\")\n",
        "print(\"*이 메세지는 for문 밖에서 출력됩니다.\")"
      ]
    },
    {
      "cell_type": "markdown",
      "metadata": {
        "id": "k9L_aIWranTC"
      },
      "source": [
        "### while 문\n",
        "* 조건문이 참인 동안 순회하며 실행되기 때문에 특정 조건까지 반복문을 수행하고자 할때 사용합니다.\n",
        "* 예를 들어 특정 웹페이지를 순회한다면 내용이 없을 때까지 순회하라는 반복문을 구현할 수 있습니다."
      ]
    },
    {
      "cell_type": "code",
      "execution_count": null,
      "metadata": {
        "id": "dAovQYYYanTC",
        "colab": {
          "base_uri": "https://localhost:8080/"
        },
        "outputId": "48973011-9d7a-4210-e09b-d3cbc6d139af"
      },
      "outputs": [
        {
          "output_type": "stream",
          "name": "stdout",
          "text": [
            "1\n",
            "2\n",
            "3\n",
            "4\n",
            "5\n",
            "6\n",
            "7\n"
          ]
        }
      ],
      "source": [
        "# 변수의 초깃값을 부여하고 특정 변수값이 되면 종료하도록 합니다.\n",
        "i = 0\n",
        "while True:\n",
        "    if i > 6:\n",
        "        break\n",
        "    i = i + 1\n",
        "    print(i)"
      ]
    },
    {
      "cell_type": "markdown",
      "metadata": {
        "id": "f68nJZ_danTD"
      },
      "source": [
        "## 함수\n",
        "* https://docs.python.org/ko/3/tutorial/controlflow.html#defining-functions"
      ]
    },
    {
      "cell_type": "code",
      "execution_count": null,
      "metadata": {
        "id": "kPqWsFmdanTD",
        "colab": {
          "base_uri": "https://localhost:8080/",
          "height": 36
        },
        "outputId": "e34c7ce6-656a-4856-9f89-c9cb38a508fe"
      },
      "outputs": [
        {
          "output_type": "execute_result",
          "data": {
            "text/plain": [
              "'02'"
            ],
            "application/vnd.google.colaboratory.intrinsic+json": {
              "type": "string"
            }
          },
          "metadata": {},
          "execution_count": 33
        }
      ],
      "source": [
        "# split_phone 이름을 갖는 전화번호 국번을 반환하는 함수를 만듭니다.\n",
        "num = \"02-321-1234\"\n",
        "num.split(\"-\")[0]"
      ]
    },
    {
      "cell_type": "code",
      "execution_count": null,
      "metadata": {
        "id": "3dRHgK_zanTE",
        "colab": {
          "base_uri": "https://localhost:8080/",
          "height": 36
        },
        "outputId": "4bd49f31-d1b0-4769-aaab-434b55beed94"
      },
      "outputs": [
        {
          "output_type": "execute_result",
          "data": {
            "text/plain": [
              "'02'"
            ],
            "application/vnd.google.colaboratory.intrinsic+json": {
              "type": "string"
            }
          },
          "metadata": {},
          "execution_count": 35
        }
      ],
      "source": [
        "# def == define\n",
        "\n",
        "def split_phone_num(num):\n",
        "    return num\n",
        "\n",
        "split_phone_num(num.split(\"-\")[0])\n"
      ]
    },
    {
      "cell_type": "code",
      "execution_count": null,
      "metadata": {
        "id": "eVfKvc36anTE"
      },
      "outputs": [],
      "source": [
        "# 문자열 전처리로 월을 반환하는 함수 만들기\n",
        "date = \"2022년 08월 22일\""
      ]
    },
    {
      "cell_type": "code",
      "execution_count": null,
      "metadata": {
        "id": "Y00BELRuanTE",
        "colab": {
          "base_uri": "https://localhost:8080/",
          "height": 36
        },
        "outputId": "91930d38-1bd1-44f3-ff92-9861a3e1d1b9"
      },
      "outputs": [
        {
          "output_type": "execute_result",
          "data": {
            "text/plain": [
              "'08'"
            ],
            "application/vnd.google.colaboratory.intrinsic+json": {
              "type": "string"
            }
          },
          "metadata": {},
          "execution_count": 57
        }
      ],
      "source": [
        "# 함수명 find_month \n",
        "# \"\"\"(따옴표 3개) 입력 -> 도움말에 나옴\n",
        "\n",
        "def find_month(date):\n",
        "    \"\"\"\n",
        "    반환값이 08이 되도록 함수를 만들어 봅시다!\n",
        "    \"\"\"\n",
        "    return date.split()[1].replace(\"월\", \"\")\n",
        "\n",
        "find_month(date)"
      ]
    },
    {
      "cell_type": "markdown",
      "metadata": {
        "id": "-inZmvvXanTE"
      },
      "source": [
        "## 함수의 도움말 보기"
      ]
    },
    {
      "cell_type": "code",
      "execution_count": null,
      "metadata": {
        "id": "dhz8dQEganTF"
      },
      "outputs": [],
      "source": [
        "# split_phone?\n",
        "find_month?"
      ]
    },
    {
      "cell_type": "code",
      "execution_count": null,
      "metadata": {
        "id": "E-NvrNaaanTF"
      },
      "outputs": [],
      "source": [
        "# split_phone??\n",
        "find_month??"
      ]
    },
    {
      "cell_type": "markdown",
      "metadata": {
        "id": "N_JshleSanTF"
      },
      "source": [
        "## 응용1\n",
        "* http://data.seoul.go.kr/dataList/OA-15248/F/1/datasetView.do\n",
        "* 월별 대여현황에서 연령대는 코드로 제공됩니다. 해당 코드를 값과 매핑하기 위해 딕셔너리 형태로 가공해 보는 연습을 합니다."
      ]
    },
    {
      "cell_type": "code",
      "execution_count": null,
      "metadata": {
        "id": "8KxoXKDVanTG",
        "colab": {
          "base_uri": "https://localhost:8080/",
          "height": 54
        },
        "outputId": "59411f3e-cb6b-420c-b7c2-bb0b6c8b69d2"
      },
      "outputs": [
        {
          "output_type": "execute_result",
          "data": {
            "text/plain": [
              "'\\n10대 : AGE_001\\n20대 : AGE_002\\n30대 : AGE_003\\n40대 : AGE_004\\n50대 : AGE_005\\n60대 : AGE_006\\n70대 : AGE_007\\n기타 : AGE_008\\n( 비회원, 외국인, 그 이상 등 )'"
            ],
            "application/vnd.google.colaboratory.intrinsic+json": {
              "type": "string"
            }
          },
          "metadata": {},
          "execution_count": 59
        }
      ],
      "source": [
        "age_code = \"\"\"\n",
        "10대 : AGE_001\n",
        "20대 : AGE_002\n",
        "30대 : AGE_003\n",
        "40대 : AGE_004\n",
        "50대 : AGE_005\n",
        "60대 : AGE_006\n",
        "70대 : AGE_007\n",
        "기타 : AGE_008\n",
        "( 비회원, 외국인, 그 이상 등 )\"\"\"\n",
        "age_code"
      ]
    },
    {
      "cell_type": "code",
      "execution_count": null,
      "metadata": {
        "id": "auu_Oxm4anTG",
        "colab": {
          "base_uri": "https://localhost:8080/"
        },
        "outputId": "83459608-cd72-4602-b5ce-560d957faac4"
      },
      "outputs": [
        {
          "output_type": "stream",
          "name": "stdout",
          "text": [
            "['']\n",
            "['10대 ', ' AGE_001']\n",
            "['20대 ', ' AGE_002']\n",
            "['30대 ', ' AGE_003']\n",
            "['40대 ', ' AGE_004']\n",
            "['50대 ', ' AGE_005']\n",
            "['60대 ', ' AGE_006']\n",
            "['70대 ', ' AGE_007']\n",
            "['기타 ', ' AGE_008']\n",
            "['( 비회원, 외국인, 그 이상 등 )']\n"
          ]
        }
      ],
      "source": [
        "age_dict = {}\n",
        "for age in age_code.split(\"\\n\"):\n",
        "    print(age.split(\":\"))"
      ]
    },
    {
      "cell_type": "code",
      "source": [
        "age_dict = {}\n",
        "for age in age_code.split(\"\\n\"):\n",
        "    age_split = age.split(\":\") \n",
        "    if len(age_split) == 2:\n",
        "        key = age_split[1].strip()\n",
        "        val = age_split[0].strip()\n",
        "        age_dict[key] = val\n",
        "age_dict\n",
        "    "
      ],
      "metadata": {
        "colab": {
          "base_uri": "https://localhost:8080/"
        },
        "id": "rNtO5POC3-nf",
        "outputId": "812b7cbd-16fe-4f73-c680-775613f1f5de"
      },
      "execution_count": null,
      "outputs": [
        {
          "output_type": "execute_result",
          "data": {
            "text/plain": [
              "{'AGE_001': '10대',\n",
              " 'AGE_002': '20대',\n",
              " 'AGE_003': '30대',\n",
              " 'AGE_004': '40대',\n",
              " 'AGE_005': '50대',\n",
              " 'AGE_006': '60대',\n",
              " 'AGE_007': '70대',\n",
              " 'AGE_008': '기타'}"
            ]
          },
          "metadata": {},
          "execution_count": 84
        }
      ]
    },
    {
      "cell_type": "code",
      "execution_count": null,
      "metadata": {
        "id": "0CH2lrmwanTG"
      },
      "outputs": [],
      "source": [
        ""
      ]
    },
    {
      "cell_type": "code",
      "execution_count": null,
      "metadata": {
        "id": "3DsoNQTvanTG"
      },
      "outputs": [],
      "source": [
        ""
      ]
    },
    {
      "cell_type": "markdown",
      "metadata": {
        "id": "VXukAkHJanTG"
      },
      "source": [
        "## 응용2 - 딕셔너리의 결과가 아래와 같이 나오도록 아래의 문자열을 변경해 보세요.\n",
        "```\n",
        "{'경기': '031',\n",
        "'강원': '033',\n",
        "'충남': '041',\n",
        "'충북': '043',\n",
        "'경북': '054',\n",
        "'경남': '055',\n",
        "'전남': '061',\n",
        "'전북': '063'}\n",
        "```"
      ]
    },
    {
      "cell_type": "code",
      "execution_count": null,
      "metadata": {
        "id": "JR9y25zoanTH",
        "outputId": "e708cd12-941b-497a-ed87-af8ef64d0c13",
        "colab": {
          "base_uri": "https://localhost:8080/"
        }
      },
      "outputs": [
        {
          "output_type": "execute_result",
          "data": {
            "text/plain": [
              "['',\n",
              " '경기 031 ',\n",
              " '강원 033 ',\n",
              " '충남 041 ',\n",
              " '충북 043 ',\n",
              " '경북 054 ',\n",
              " '경남 055 ',\n",
              " '전남 061 ',\n",
              " '전북 063']"
            ]
          },
          "metadata": {},
          "execution_count": 4
        }
      ],
      "source": [
        "# 아래의 문자를 딕셔너리 형태로 변경하기\n",
        "phone = \">경기 031 >강원 033 >충남 041 >충북 043 >경북 054 >경남 055 >전남 061 >전북 063\"\n",
        "# \">\" 문자를 기준으로 문자열을 나눕니다. => split() 으로 리스트로 변환\n",
        "# for문으로 리스트를 반복해서 phone_dict 에 채웁니다.\n",
        "phone.split(\">\")"
      ]
    },
    {
      "cell_type": "code",
      "source": [
        "phone_dict = {}\n",
        "for phone_split in phone.split(\">\"):\n",
        "    ps = phone_split.split()\n",
        "    if len(ps) == 2:\n",
        "        key = ps[0]\n",
        "        val = ps[1]\n",
        "        phone_dict[key] = val"
      ],
      "metadata": {
        "id": "azhnuiXLOsKL"
      },
      "execution_count": null,
      "outputs": []
    },
    {
      "cell_type": "code",
      "execution_count": null,
      "metadata": {
        "id": "upnAN7iEanTI",
        "colab": {
          "base_uri": "https://localhost:8080/"
        },
        "outputId": "3dfbc954-8836-4987-c320-de46a470207f"
      },
      "outputs": [
        {
          "output_type": "execute_result",
          "data": {
            "text/plain": [
              "{'경기': '031',\n",
              " '강원': '033',\n",
              " '충남': '041',\n",
              " '충북': '043',\n",
              " '경북': '054',\n",
              " '경남': '055',\n",
              " '전남': '061',\n",
              " '전북': '063'}"
            ]
          },
          "metadata": {},
          "execution_count": 7
        }
      ],
      "source": [
        "phone_dict"
      ]
    }
  ],
  "metadata": {
    "colab": {
      "collapsed_sections": [],
      "provenance": [],
      "name": "0102-python-controlflow-input.ipynb의 사본",
      "include_colab_link": true
    },
    "kernelspec": {
      "display_name": "Python 3 (ipykernel)",
      "language": "python",
      "name": "python3"
    },
    "language_info": {
      "codemirror_mode": {
        "name": "ipython",
        "version": 3
      },
      "file_extension": ".py",
      "mimetype": "text/x-python",
      "name": "python",
      "nbconvert_exporter": "python",
      "pygments_lexer": "ipython3",
      "version": "3.7.13"
    },
    "toc": {
      "base_numbering": 1,
      "nav_menu": {},
      "number_sections": true,
      "sideBar": true,
      "skip_h1_title": false,
      "title_cell": "Table of Contents",
      "title_sidebar": "Contents",
      "toc_cell": false,
      "toc_position": {},
      "toc_section_display": true,
      "toc_window_display": true
    },
    "varInspector": {
      "cols": {
        "lenName": 16,
        "lenType": 16,
        "lenVar": 40
      },
      "kernels_config": {
        "python": {
          "delete_cmd_postfix": "",
          "delete_cmd_prefix": "del ",
          "library": "var_list.py",
          "varRefreshCmd": "print(var_dic_list())"
        },
        "r": {
          "delete_cmd_postfix": ") ",
          "delete_cmd_prefix": "rm(",
          "library": "var_list.r",
          "varRefreshCmd": "cat(var_dic_list()) "
        }
      },
      "types_to_exclude": [
        "module",
        "function",
        "builtin_function_or_method",
        "instance",
        "_Feature"
      ],
      "window_display": false
    }
  },
  "nbformat": 4,
  "nbformat_minor": 0
}